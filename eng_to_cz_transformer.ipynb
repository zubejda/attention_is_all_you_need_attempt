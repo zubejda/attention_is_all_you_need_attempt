{
  "nbformat": 4,
  "nbformat_minor": 0,
  "metadata": {
    "colab": {
      "private_outputs": true,
      "provenance": [],
      "authorship_tag": "ABX9TyO95wQZZMhc/Wwat9rd3Vi6",
      "include_colab_link": true
    },
    "kernelspec": {
      "name": "python3",
      "display_name": "Python 3"
    },
    "language_info": {
      "name": "python"
    }
  },
  "cells": [
    {
      "cell_type": "markdown",
      "metadata": {
        "id": "view-in-github",
        "colab_type": "text"
      },
      "source": [
        "<a href=\"https://colab.research.google.com/github/zubejda/attention_is_all_you_need_attempt/blob/main/eng_to_cz_transformer.ipynb\" target=\"_parent\"><img src=\"https://colab.research.google.com/assets/colab-badge.svg\" alt=\"Open In Colab\"/></a>"
      ]
    },
    {
      "cell_type": "code",
      "execution_count": null,
      "metadata": {
        "id": "K-swGHTqujDp"
      },
      "outputs": [],
      "source": [
        "import torch\n",
        "import torch.nn as nn\n",
        "from torch.utils.data import Dataset, DataLoader\n",
        "import numpy as np\n",
        "import string\n",
        "import math"
      ]
    },
    {
      "cell_type": "code",
      "source": [
        "device = torch.device('cuda' if torch.cuda.is_available() else 'cpu')\n",
        "eng_lines = []\n",
        "cz_lines = []\n",
        "chars_to_remove = ',\\\":``'\n",
        "with open('ces.txt', 'r') as f:\n",
        "    lines = f.readlines()\n",
        "    for line in lines:\n",
        "        eng, cz = line.split('\\t')[:2]\n",
        "        cz.rstrip(chars_to_remove)\n",
        "        eng.rstrip(chars_to_remove)\n",
        "        cz.lstrip(chars_to_remove)\n",
        "        eng.lstrip(chars_to_remove)\n",
        "        eng_lines.append(eng)\n",
        "        cz_lines.append(cz)\n",
        "\n",
        "# cz_lines = np.array(cz_lines)\n",
        "# eng_lines = np.array(eng_lines)"
      ],
      "metadata": {
        "id": "ct8tzrqFumj7"
      },
      "execution_count": null,
      "outputs": []
    },
    {
      "cell_type": "code",
      "source": [
        "class english_czech_dataset(Dataset):\n",
        "    def __init__(self, english_lines, czech_lines, max_length=128):\n",
        "        \"\"\"\n",
        "        Args:\n",
        "            english_lines (list or np.array): List or an array of English lines.\n",
        "            czech_lines (list or np.array): List or an array of Czech lines. - targets\n",
        "        \"\"\"\n",
        "        self.english_lines = english_lines\n",
        "        self.czech_lines = czech_lines\n",
        "        self.max_length = max_length\n",
        "        self.chars = string.ascii_lowercase + string.digits + string.punctuation + ' '\n",
        "        self.PAD_TOKEN = '<PAD>'\n",
        "        self.PAD_INDEX = 0\n",
        "\n",
        "        self.char_to_idx = {self.PAD_TOKEN: self.PAD_INDEX}\n",
        "        self.char_to_idx.update({ch: idx + 1 for idx, ch in enumerate(self.chars)})\n",
        "        self.idx_to_char = {idx: ch for ch, idx in self.char_to_idx.items()}\n",
        "\n",
        "    def __len__(self):\n",
        "        \"\"\"Return the total number of samples in the dataset\"\"\"\n",
        "        return len(self.czech_lines)\n",
        "\n",
        "    def vocab_len(self):\n",
        "        return len(self.char_to_idx)\n",
        "\n",
        "    def __getitem__(self, idx):\n",
        "        \"\"\"\n",
        "        returns a tuple of english and czech tenosr\n",
        "        \"\"\"\n",
        "        eng_encoded = self.encode_string(self.english_lines[idx])\n",
        "        cz_encoded = self.encode_string(self.czech_lines[idx])\n",
        "\n",
        "        eng_padded = self.pad_or_truncate(eng_encoded)\n",
        "        cz_padded = self.pad_or_truncate(cz_encoded)\n",
        "\n",
        "        eng_tensor = torch.tensor(eng_padded, dtype=torch.int32)\n",
        "        cz_tensor = torch.tensor(cz_padded, dtype=torch.int32)\n",
        "\n",
        "        return eng_tensor, cz_tensor\n",
        "\n",
        "    def encode_string(self, s):\n",
        "        return [self.char_to_idx[c] for c in s.lower() if c in self.char_to_idx]\n",
        "\n",
        "    def decode_string(self, indices):\n",
        "        return ''.join([self.idx_to_char[i] for i in indices if i in self.idx_to_char])\n",
        "\n",
        "    def pad_or_truncate(self, encoded_sequence):\n",
        "        \"\"\"\n",
        "        Pad or truncate a sequence to the specified maximum length.\n",
        "\n",
        "        Args:\n",
        "            encoded_sequence (list): List of encoded integers.\n",
        "\n",
        "        Returns:\n",
        "            List: Padded or truncated sequence.\n",
        "        \"\"\"\n",
        "        if len(encoded_sequence) > self.max_length:\n",
        "            return encoded_sequence[:self.max_length]\n",
        "\n",
        "        return encoded_sequence + [self.PAD_INDEX] * (self.max_length - len(encoded_sequence))"
      ],
      "metadata": {
        "id": "JOGFt3_cwGFe"
      },
      "execution_count": null,
      "outputs": []
    },
    {
      "cell_type": "code",
      "source": [
        "max_seq_length = 128 # also the size for embeddings\n",
        "dataset = english_czech_dataset(eng_lines, cz_lines, max_length=max_seq_length)\n",
        "print(dataset[0][0].shape)\n",
        "batch_size = 32\n",
        "dataloader = DataLoader(dataset, batch_size=batch_size, shuffle=False)\n",
        "# print(dataset.decode_string(dataset[0][0].tolist()))\n",
        "for batch_idx, (eng_batch, cz_batch) in enumerate(dataloader):\n",
        "    print(eng_batch.shape, cz_batch.shape)\n",
        "    break"
      ],
      "metadata": {
        "id": "4_MCc9M5xJdU"
      },
      "execution_count": null,
      "outputs": []
    },
    {
      "cell_type": "code",
      "source": [
        "class PositionalEncoding(nn.Module):\n",
        "    def __init__(self, embedding_dim, max_length=128):\n",
        "        \"\"\"\n",
        "        Args:\n",
        "            embedding_dim: Dimensionality of the embeddings (should match the model's embedding_dim).\n",
        "            max_len: Maximum length of the input sequence (should cover the longest sequence you expect).\n",
        "        \"\"\"\n",
        "        super(PositionalEncoding, self).__init__()\n",
        "        self.embedding_dim = embedding_dim\n",
        "        self.max_length = max_length\n",
        "\n",
        "        pe = torch.zeros(self.max_length, self.embedding_dim)\n",
        "        position = torch.arange(0, self.max_length, dtype=torch.float).unsqueeze(1)\n",
        "        denominator = torch.exp(torch.arange(0, self.embedding_dim, 2).float() * (-math.log(10000.0) / self.embedding_dim))\n",
        "        pe[:, 0::2] = torch.sin(position * denominator)\n",
        "        pe[:, 1::2] = torch.cos(position * denominator)\n",
        "        self.pe = pe.unsqueeze(0)  # Shape: [1, max_len, embedding_dim]\n",
        "\n",
        "    def forward(self, x):\n",
        "        seq_len = x.size(1)\n",
        "\n",
        "        return self.pe[:, :seq_len, :].to(x.device)"
      ],
      "metadata": {
        "id": "XHqfXc-Cw6au"
      },
      "execution_count": null,
      "outputs": []
    },
    {
      "cell_type": "code",
      "source": [
        "class MultiHeadAttention(nn.Module):\n",
        "    def __init__(self, embedding_dim, num_heads):\n",
        "        super(MultiHeadAttention, self).__init__()\n",
        "        self.embedding_dim = embedding_dim\n",
        "        self.num_heads = num_heads # TODO: implement the variant with multiple heads\n",
        "\n",
        "        self.q = nn.Linear(self.embedding_dim, self.embedding_dim)\n",
        "        self.k = nn.Linear(self.embedding_dim, self.embedding_dim)\n",
        "        self.v = nn.Linear(self.embedding_dim, self.embedding_dim)\n",
        "        self.linear = nn.Linear(self.embedding_dim, self.embedding_dim)\n",
        "        self.norm = nn.LayerNorm(self.embedding_dim)\n",
        "\n",
        "    def forward(self, x, mask=None):\n",
        "        q_vals = self.q(x)\n",
        "        k_vals = self.k(x)\n",
        "        v_vals = self.v(x)\n",
        "        softmax_input = torch.matmul(q_vals, k_vals.transpose(1, 2)) / math.sqrt(self.embedding_dim)\n",
        "        if mask is not None:\n",
        "            softmax_input = softmax_input.masked_fill(mask == 0, float('-inf'))\n",
        "\n",
        "        print(softmax_input[0, 0:5, 0:5])\n",
        "        softmax_output = torch.softmax(softmax_input, dim=-1)\n",
        "        sdp_attention = torch.matmul(softmax_output, v_vals)\n",
        "        mha_output = self.linear(sdp_attention)\n",
        "        attention_output = x + mha_output\n",
        "        attention_output = self.norm(attention_output)\n",
        "\n",
        "        return attention_output"
      ],
      "metadata": {
        "id": "z658zZfljjia"
      },
      "execution_count": null,
      "outputs": []
    },
    {
      "cell_type": "code",
      "source": [
        "class Encoder(nn.Module):\n",
        "    def __init__(self, vocab_size, embedding_size, num_heads=8, masking=False):\n",
        "\n",
        "        super(Encoder, self).__init__()\n",
        "        self.vocab_size = vocab_size # amount of characters in the vocabulary\n",
        "        self.embedding_size = embedding_size # size of the embeddings\n",
        "        self.masking = masking # decide whether a padding mask is applied before computing softmax\n",
        "\n",
        "        self.embedding = nn.Embedding(self.vocab_size, self.embedding_size)\n",
        "        self.pos_encoding = PositionalEncoding(self.embedding_size, max_length=self.embedding_size)\n",
        "        self.att_block = MultiHeadAttention(self.embedding_size, 8)\n",
        "        self.fc1 = nn.Linear(self.embedding_size, self.embedding_size)\n",
        "        self.relu = nn.ReLU()\n",
        "        self.fc2 = nn.Linear(self.embedding_size, self.embedding_size)\n",
        "        self.ff_net = nn.ModuleList([self.fc1, self.relu, self.fc2]) # feedforward network on top of the attention layer\n",
        "        self.norm2 = nn.LayerNorm(self.embedding_size)\n",
        "\n",
        "    def forward(self, x):\n",
        "        mask = (x != 0).unsqueeze(1)\n",
        "        if len(list(x.shape)) == 1:\n",
        "            x = x.unsqueeze(0)\n",
        "            mask = mask.squeeze(0)\n",
        "\n",
        "        x = self.embedding(x)\n",
        "        x += self.pos_encoding(x) # add the positional encoding to the embedded sequence\n",
        "        if self.masking is False:\n",
        "            mask = None\n",
        "        attention_output = self.att_block(x, mask=mask)\n",
        "\n",
        "        for layer in self.ff_net:\n",
        "            x = layer(attention_output)\n",
        "\n",
        "        encoder_output = self.norm2(x + attention_output)\n",
        "\n",
        "        return encoder_output"
      ],
      "metadata": {
        "id": "XgJIZBjcu62f"
      },
      "execution_count": null,
      "outputs": []
    },
    {
      "cell_type": "code",
      "source": [
        "embed_dim = max_seq_length\n",
        "encoder = Encoder(dataset.vocab_len(), embed_dim, masking=True)\n",
        "print('eng', eng_batch[0, 0:5])\n",
        "\n",
        "print(encoder.forward(eng_batch[0]).shape)"
      ],
      "metadata": {
        "id": "vQEHXzF7xHzI"
      },
      "execution_count": null,
      "outputs": []
    },
    {
      "cell_type": "code",
      "source": [
        "class Decoder(nn.Module):\n",
        "    def __init__(self, vocab_size, embedding_size, hidden_size, masking=False):\n",
        "\n",
        "        super(Decoder, self).__init__()\n",
        "        self.vocab_size = vocab_size\n",
        "        self.embedding_size = embedding_size\n",
        "        self.hidden_size = hidden_size\n",
        "        self.masking = masking\n",
        "\n"
      ],
      "metadata": {
        "id": "jcJIgrzpjZ5g"
      },
      "execution_count": null,
      "outputs": []
    },
    {
      "cell_type": "code",
      "source": [],
      "metadata": {
        "id": "0dq9VcHMt0WX"
      },
      "execution_count": null,
      "outputs": []
    }
  ]
}