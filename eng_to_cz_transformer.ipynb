{
  "nbformat": 4,
  "nbformat_minor": 0,
  "metadata": {
    "colab": {
      "private_outputs": true,
      "provenance": [],
      "authorship_tag": "ABX9TyMHpXPPkBnYZCCTrluJYv6M",
      "include_colab_link": true
    },
    "kernelspec": {
      "name": "python3",
      "display_name": "Python 3"
    },
    "language_info": {
      "name": "python"
    }
  },
  "cells": [
    {
      "cell_type": "markdown",
      "metadata": {
        "id": "view-in-github",
        "colab_type": "text"
      },
      "source": [
        "<a href=\"https://colab.research.google.com/github/zubejda/attention_is_all_you_need_attempt/blob/main/eng_to_cz_transformer.ipynb\" target=\"_parent\"><img src=\"https://colab.research.google.com/assets/colab-badge.svg\" alt=\"Open In Colab\"/></a>"
      ]
    },
    {
      "cell_type": "code",
      "execution_count": null,
      "metadata": {
        "id": "K-swGHTqujDp"
      },
      "outputs": [],
      "source": [
        "import torch\n",
        "import torch.nn as nn\n",
        "from torch.utils.data import Dataset, DataLoader\n",
        "import numpy as np\n",
        "import string\n",
        "import math"
      ]
    },
    {
      "cell_type": "code",
      "source": [
        "eng_lines = []\n",
        "cz_lines = []\n",
        "chars_to_remove = ',\\\":``'\n",
        "with open('ces.txt', 'r') as f:\n",
        "    lines = f.readlines()\n",
        "    for line in lines:\n",
        "        eng, cz = line.split('\\t')[:2]\n",
        "        cz.rstrip(chars_to_remove)\n",
        "        eng.rstrip(chars_to_remove)\n",
        "        cz.lstrip(chars_to_remove)\n",
        "        eng.lstrip(chars_to_remove)\n",
        "        eng_lines.append(eng)\n",
        "        cz_lines.append(cz)\n",
        "\n",
        "# cz_lines = np.array(cz_lines)\n",
        "# eng_lines = np.array(eng_lines)"
      ],
      "metadata": {
        "id": "ct8tzrqFumj7"
      },
      "execution_count": null,
      "outputs": []
    },
    {
      "cell_type": "code",
      "source": [
        "class DataLoader(Dataset):\n",
        "    def __init__(self, english_lines, czech_lines, max_length=128):\n",
        "        \"\"\"\n",
        "        Args:\n",
        "            english_lines (list or np.array): List or an array of English lines.\n",
        "            czech_lines (list or np.array): List or an array of Czech lines. - targets\n",
        "        \"\"\"\n",
        "        self.english_lines = english_lines\n",
        "        self.czech_lines = czech_lines\n",
        "        self.max_length = max_length\n",
        "        self.chars = string.ascii_lowercase + string.digits + string.punctuation + ' '\n",
        "        self.PAD_TOKEN = '<PAD>'\n",
        "        self.PAD_INDEX = 0\n",
        "\n",
        "        self.char_to_idx = {self.PAD_TOKEN: self.PAD_INDEX}\n",
        "        self.char_to_idx.update({ch: idx + 1 for idx, ch in enumerate(self.chars)})\n",
        "        self.idx_to_char = {idx: ch for ch, idx in self.char_to_idx.items()}\n",
        "\n",
        "    def __len__(self):\n",
        "        \"\"\"Return the total number of samples in the dataset\"\"\"\n",
        "        return len(self.czech_lines)\n",
        "\n",
        "    def vocab_len(self):\n",
        "        return len(self.chars)\n",
        "\n",
        "    def __getitem__(self, idx):\n",
        "        \"\"\"\n",
        "        returns a tuple of english and czech tenosr\n",
        "        \"\"\"\n",
        "        eng_encoded = self.encode_string(self.english_lines[idx])\n",
        "        cz_encoded = self.encode_string(self.czech_lines[idx])\n",
        "\n",
        "        eng_padded = self.pad_or_truncate(eng_encoded)\n",
        "        cz_padded = self.pad_or_truncate(cz_encoded)\n",
        "\n",
        "        eng_tensor = torch.tensor(eng_padded, dtype=torch.int32)\n",
        "        cz_tensor = torch.tensor(cz_padded, dtype=torch.int32)\n",
        "\n",
        "        return eng_tensor, cz_tensor\n",
        "\n",
        "    def encode_string(self, s):\n",
        "        return [self.char_to_idx[c] for c in s.lower() if c in self.char_to_idx]\n",
        "\n",
        "    def decode_string(self, indices):\n",
        "        return ''.join([self.idx_to_char[i] for i in indices if i in self.idx_to_char])\n",
        "\n",
        "    def pad_or_truncate(self, encoded_sequence):\n",
        "        \"\"\"\n",
        "        Pad or truncate a sequence to the specified maximum length.\n",
        "\n",
        "        Args:\n",
        "            encoded_sequence (list): List of encoded integers.\n",
        "\n",
        "        Returns:\n",
        "            List: Padded or truncated sequence.\n",
        "        \"\"\"\n",
        "        if len(encoded_sequence) > self.max_length:\n",
        "            return encoded_sequence[:self.max_length]\n",
        "\n",
        "        return encoded_sequence + [self.PAD_INDEX] * (self.max_length - len(encoded_sequence))"
      ],
      "metadata": {
        "id": "JOGFt3_cwGFe"
      },
      "execution_count": null,
      "outputs": []
    },
    {
      "cell_type": "code",
      "source": [
        "dataset = DataLoader(eng_lines, cz_lines)\n",
        "print(dataset.vocab_len())\n",
        "print(dataset[0][0].shape)"
      ],
      "metadata": {
        "id": "4_MCc9M5xJdU"
      },
      "execution_count": null,
      "outputs": []
    },
    {
      "cell_type": "code",
      "source": [
        "class PositionalEncoding(nn.Module):\n",
        "    def __init__(self, embedding_dim, max_length=128):\n",
        "        \"\"\"\n",
        "        Args:\n",
        "            embedding_dim: Dimensionality of the embeddings (should match the model's embedding_dim).\n",
        "            max_len: Maximum length of the input sequence (should cover the longest sequence you expect).\n",
        "        \"\"\"\n",
        "        super(PositionalEncoding, self).__init__()\n",
        "        self.embedding_dim = embedding_dim\n",
        "        self.max_length = max_length\n",
        "\n",
        "        pe = torch.zeros(self.max_length, self.embedding_dim)\n",
        "        position = torch.arange(0, self.max_length, dtype=torch.float).unsqueeze(1)\n",
        "        denominator = torch.exp(torch.arange(0, self.embedding_dim, 2).float() * (-math.log(10000.0) / self.embedding_dim))\n",
        "        pe[:, 0::2] = torch.sin(position * denominator)\n",
        "        pe[:, 1::2] = torch.cos(position * denominator)\n",
        "        self.pe = pe.unsqueeze(0)  # Shape: [1, max_len, embedding_dim]\n",
        "\n",
        "    def forward(self, x):\n",
        "        seq_len = x.size(1)\n",
        "\n",
        "        return x + self.pe[:seq_len, :].to(x.device)"
      ],
      "metadata": {
        "id": "XHqfXc-Cw6au"
      },
      "execution_count": null,
      "outputs": []
    },
    {
      "cell_type": "code",
      "source": [
        "class Encoder(nn.Module):\n",
        "    def __init__(self, vocab_size, embedding_size, hidden_size, masking=False, pe_length=128):\n",
        "\n",
        "        super(Encoder, self).__init__()\n",
        "        self.vocab_size = vocab_size\n",
        "        self.embedding_size = embedding_size\n",
        "        self.hidden_size = hidden_size\n",
        "        self.pe_length = pe_length # maximu length of a single input sequence\n",
        "        self.masking = masking # decide whether a padding mask is applied before computing softmax\n",
        "\n",
        "        self.embedding = nn.Embedding(self.vocab_size, self.embedding_size)\n",
        "        self.pos_encoding = PositionalEncoding(self.embedding_size, max_length=self.pe_length)\n",
        "        self.q1 = nn.Linear(self.embedding_size, self.hidden_size)\n",
        "        self.k1 = nn.Linear(self.embedding_size, self.hidden_size)\n",
        "        self.v1 = nn.Linear(self.embedding_size, self.hidden_size)\n",
        "\n",
        "    def forward(self, x):\n",
        "        mask = x != 0\n",
        "        x = self.embedding(x)\n",
        "        x = self.pos_encoding(x)\n",
        "        q_vals = self.q1(x)\n",
        "        k_vals = self.k1(x)\n",
        "        softmax_input = torch.matmul(q_vals, k_vals.transpose(1, 2)) / math.sqrt(self.pe_length)\n",
        "        if self.masking:\n",
        "            softmax_input = softmax_input.masked_fill(mask == 0, float('-inf'))\n",
        "\n",
        "        softmax_output = torch.softmax(softmax_input, dim=-1)\n",
        "        v_vals = self.v1(x)\n",
        "        csp_attention = torch.matmul(softmax_output, v_vals)\n",
        "        x = x + csp_attention\n",
        "\n",
        "        return x"
      ],
      "metadata": {
        "id": "XgJIZBjcu62f"
      },
      "execution_count": null,
      "outputs": []
    },
    {
      "cell_type": "code",
      "source": [
        "encoder = Encoder(dataset.vocab_len(), 256, 256, masking=True, pe_length=dataset.max_length)\n",
        "print(encoder.forward(dataset[0][0]).shape)"
      ],
      "metadata": {
        "id": "vQEHXzF7xHzI"
      },
      "execution_count": null,
      "outputs": []
    },
    {
      "cell_type": "code",
      "source": [],
      "metadata": {
        "id": "0dq9VcHMt0WX"
      },
      "execution_count": null,
      "outputs": []
    },
    {
      "cell_type": "code",
      "source": [],
      "metadata": {
        "id": "G5UJWhh92BDw"
      },
      "execution_count": null,
      "outputs": []
    }
  ]
}