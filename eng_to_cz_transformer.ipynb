{
  "nbformat": 4,
  "nbformat_minor": 0,
  "metadata": {
    "colab": {
      "private_outputs": true,
      "provenance": [],
      "gpuType": "T4",
      "mount_file_id": "10ZgKh_abZZEcDpFIsARYvpPMKP-OXoQb",
      "authorship_tag": "ABX9TyMGJ/HwUpYZAsIZDVVBuwtY",
      "include_colab_link": true
    },
    "kernelspec": {
      "name": "python3",
      "display_name": "Python 3"
    },
    "language_info": {
      "name": "python"
    },
    "accelerator": "GPU"
  },
  "cells": [
    {
      "cell_type": "markdown",
      "metadata": {
        "id": "view-in-github",
        "colab_type": "text"
      },
      "source": [
        "<a href=\"https://colab.research.google.com/github/zubejda/attention_is_all_you_need_attempt/blob/main/eng_to_cz_transformer.ipynb\" target=\"_parent\"><img src=\"https://colab.research.google.com/assets/colab-badge.svg\" alt=\"Open In Colab\"/></a>"
      ]
    },
    {
      "cell_type": "code",
      "execution_count": null,
      "metadata": {
        "id": "K-swGHTqujDp"
      },
      "outputs": [],
      "source": [
        "import torch\n",
        "import torch.nn as nn\n",
        "from torch.utils.data import Dataset, DataLoader, random_split\n",
        "import torch.optim as optim\n",
        "import numpy as np\n",
        "import string\n",
        "import math\n",
        "from google.colab import drive\n",
        "import re"
      ]
    },
    {
      "cell_type": "code",
      "source": [
        "drive.mount('/content/drive')"
      ],
      "metadata": {
        "id": "Ujk5ef-8JXu3"
      },
      "execution_count": null,
      "outputs": []
    },
    {
      "cell_type": "code",
      "source": [
        "smaller_file = \"/content/drive/MyDrive/Colab_Notebooks/translation/ces-eng/ces.txt\"\n",
        "big_cz = \"/content/drive/MyDrive/Colab_Notebooks/translation/cs-en/europarl-v7.cs-en.cs\"\n",
        "big_eng = \"/content/drive/MyDrive/Colab_Notebooks/translation/cs-en/europarl-v7.cs-en.en\""
      ],
      "metadata": {
        "id": "RhdlaW5BJjcF"
      },
      "execution_count": null,
      "outputs": []
    },
    {
      "cell_type": "code",
      "source": [
        "def clean_text(text):\n",
        "    return pattern.sub('', text)"
      ],
      "metadata": {
        "id": "7zoRsLh2MY8e"
      },
      "execution_count": null,
      "outputs": []
    },
    {
      "cell_type": "code",
      "source": [
        "device = torch.device('cuda' if torch.cuda.is_available() else 'cpu')\n",
        "print(device)"
      ],
      "metadata": {
        "id": "caynDMEAFBUi"
      },
      "execution_count": null,
      "outputs": []
    },
    {
      "cell_type": "code",
      "source": [
        "eng_lines_small = []\n",
        "cz_lines_small = []\n",
        "eng_lines = []\n",
        "cz_lines = []\n",
        "chars_to_remove = ',\\\":``.\\'?!;₂“’„′‘¨*¸·»º°≤[]•\\u200b³&¡”¹=˚()@_/±.ˇ<²\\\\'\n",
        "pattern = re.compile(f\"(?<!\\\\d)[{re.escape(chars_to_remove)}]|[{re.escape(chars_to_remove)}](?!\\\\d)\")\n",
        "c = 0 # count of lines that are longer than specified number\n",
        "unique_chars = set()\n",
        "with open(big_cz, 'r') as f:\n",
        "    cz_text = f.readlines()\n",
        "\n",
        "with open(big_eng, 'r') as f:\n",
        "    en_text = f.readlines()\n",
        "\n",
        "with open(smaller_file, 'r') as f:\n",
        "    small_cz = f.readlines()\n",
        "\n",
        "for line in small_cz:\n",
        "    eng, cz = line.split('\\t')[:2]\n",
        "    if len(eng) > 64 or len(cz) > 64:\n",
        "        c +=1\n",
        "    eng = clean_text(eng.strip())\n",
        "    cz = clean_text(cz.strip())\n",
        "    unique_chars.update(eng)\n",
        "    unique_chars.update(cz)\n",
        "    eng_lines_small.append(eng)\n",
        "    cz_lines_small.append(cz)\n",
        "\n",
        "\n",
        "for cz, eng in zip(cz_text, en_text):\n",
        "    # eng, cz = line.split('\\t')[:2]\n",
        "    if len(eng) > 128 or len(cz) > 128:\n",
        "        c +=1\n",
        "    eng = clean_text(eng.strip())\n",
        "    cz = clean_text(cz.strip())\n",
        "    unique_chars.update(eng)\n",
        "    unique_chars.update(cz)\n",
        "    eng_lines.append(eng)\n",
        "    cz_lines.append(cz)\n",
        "\n",
        "# print(len(lines))\n",
        "print(len(eng_lines), len(cz_lines))\n",
        "\n",
        "print(c)\n",
        "print(len(unique_chars))"
      ],
      "metadata": {
        "id": "ct8tzrqFumj7"
      },
      "execution_count": null,
      "outputs": []
    },
    {
      "cell_type": "code",
      "source": [
        "print(unique_chars)\n",
        "print(sum(len(element) for element in cz_lines) / len(cz_lines))"
      ],
      "metadata": {
        "id": "IXHmQNCeK0O9"
      },
      "execution_count": null,
      "outputs": []
    },
    {
      "cell_type": "code",
      "source": [
        "PAD_TOKEN = '<PAD>'\n",
        "PAD_INDEX = 0\n",
        "SOS_TOKEN = '<SOS>'\n",
        "SOS_INDEX = 1\n",
        "EOS_TOKEN = '<EOS>'\n",
        "EOS_INDEX = 2"
      ],
      "metadata": {
        "id": "uNYi27sYf_wl"
      },
      "execution_count": null,
      "outputs": []
    },
    {
      "cell_type": "code",
      "source": [
        "class english_czech_dataset(Dataset):\n",
        "    def __init__(self, english_lines, czech_lines, max_length=128, char_set=set(string.ascii_lowercase + string.digits + string.punctuation + ' ')):\n",
        "        \"\"\"\n",
        "        Args:\n",
        "            english_lines (list or np.array): List or an array of English lines.\n",
        "            czech_lines (list or np.array): List or an array of Czech lines. - targets\n",
        "        \"\"\"\n",
        "        self.english_lines = english_lines\n",
        "        self.czech_lines = czech_lines\n",
        "        self.max_length = max_length\n",
        "        self.chars = char_set\n",
        "\n",
        "        self.char_to_idx = {PAD_TOKEN: PAD_INDEX, SOS_TOKEN: SOS_INDEX, EOS_TOKEN: EOS_INDEX}\n",
        "        self.char_to_idx.update({ch: idx + 1 for idx, ch in enumerate(self.chars)})\n",
        "        self.idx_to_char = {idx: ch for ch, idx in self.char_to_idx.items()}\n",
        "\n",
        "    def __len__(self):\n",
        "        \"\"\"Return the total number of samples in the dataset\"\"\"\n",
        "        return len(self.czech_lines)\n",
        "\n",
        "    def vocab_len(self):\n",
        "        return len(self.char_to_idx)\n",
        "\n",
        "    def __getitem__(self, idx):\n",
        "        \"\"\"\n",
        "        returns a tuple of english and czech tenosr\n",
        "        \"\"\"\n",
        "        eng_encoded = self.encode_string(self.english_lines[idx])\n",
        "        cz_encoded = self.encode_string(self.czech_lines[idx])\n",
        "\n",
        "        eng_padded = self.pad_or_truncate(eng_encoded)\n",
        "        cz_padded = self.pad_or_truncate(cz_encoded)\n",
        "\n",
        "        eng_tensor = torch.tensor(eng_padded, dtype=torch.int32)\n",
        "        cz_tensor = torch.tensor(cz_padded, dtype=torch.int32)\n",
        "\n",
        "        return eng_tensor, cz_tensor\n",
        "\n",
        "    def encode_string(self, s):\n",
        "        return [self.char_to_idx[c] for c in s.lower() if c in self.char_to_idx]\n",
        "\n",
        "    def decode_string(self, indices):\n",
        "        return ''.join([self.idx_to_char[i] for i in indices if i in self.idx_to_char])\n",
        "\n",
        "    def pad_or_truncate(self, encoded_sequence):\n",
        "        \"\"\"\n",
        "        Pad or truncate a sequence to the specified maximum length.\n",
        "\n",
        "        Args:\n",
        "            encoded_sequence (list): List of encoded integers.\n",
        "\n",
        "        Returns:\n",
        "            List: Padded or truncated sequence.\n",
        "        \"\"\"\n",
        "        if len(encoded_sequence) > self.max_length:\n",
        "            return encoded_sequence[:self.max_length]\n",
        "\n",
        "        return encoded_sequence + [PAD_INDEX] * (self.max_length - len(encoded_sequence))"
      ],
      "metadata": {
        "id": "JOGFt3_cwGFe"
      },
      "execution_count": null,
      "outputs": []
    },
    {
      "cell_type": "code",
      "source": [
        "max_seq_length = 128 # also the size for embeddings\n",
        "dataset = english_czech_dataset(eng_lines, cz_lines, max_length=max_seq_length, char_set=unique_chars)\n",
        "print(f\"Length of the dataset: {len(dataset)}, vocabulary length: {dataset.vocab_len()}\")\n",
        "print(dataset[0][0].shape)\n",
        "batch_size = 32\n",
        "dataloader = DataLoader(dataset, batch_size=batch_size, shuffle=False)\n",
        "# print(dataset.decode_string(dataset[0][0].tolist()))\n",
        "for batch_idx, (eng_batch, cz_batch) in enumerate(dataloader):\n",
        "    print(eng_batch.shape, cz_batch.shape)\n",
        "    break"
      ],
      "metadata": {
        "id": "4_MCc9M5xJdU"
      },
      "execution_count": null,
      "outputs": []
    },
    {
      "cell_type": "code",
      "source": [
        "class PositionalEncoding(nn.Module):\n",
        "    def __init__(self, embedding_dim, max_length=128):\n",
        "        \"\"\"\n",
        "        Args:\n",
        "            embedding_dim: Dimensionality of the embeddings (should match the model's embedding_dim).\n",
        "            max_len: Maximum length of the input sequence (should cover the longest sequence you expect).\n",
        "        \"\"\"\n",
        "        super(PositionalEncoding, self).__init__()\n",
        "        self.embedding_dim = embedding_dim\n",
        "        self.max_length = max_length\n",
        "\n",
        "        pe = torch.zeros(self.max_length, self.embedding_dim)\n",
        "        position = torch.arange(0, self.max_length, dtype=torch.float).unsqueeze(1)\n",
        "        denominator = torch.exp(torch.arange(0, self.embedding_dim, 2).float() * (-math.log(10000.0) / self.embedding_dim))\n",
        "        pe[:, 0::2] = torch.sin(position * denominator)\n",
        "        pe[:, 1::2] = torch.cos(position * denominator)\n",
        "        self.pe = pe.unsqueeze(0)  # Shape: [1, max_len, embedding_dim]\n",
        "\n",
        "    def forward(self, x):\n",
        "        seq_len = x.size(1)\n",
        "\n",
        "        return self.pe[:, :seq_len, :].to(x.device)"
      ],
      "metadata": {
        "id": "XHqfXc-Cw6au"
      },
      "execution_count": null,
      "outputs": []
    },
    {
      "cell_type": "code",
      "source": [
        "class MultiHeadAttention(nn.Module):\n",
        "    def __init__(self, embedding_dim, num_heads):\n",
        "        super(MultiHeadAttention, self).__init__()\n",
        "        self.embedding_dim = embedding_dim\n",
        "        self.num_heads = num_heads # TODO: implement the variant with multiple heads\n",
        "\n",
        "        self.q = nn.Linear(self.embedding_dim, self.embedding_dim)\n",
        "        self.k = nn.Linear(self.embedding_dim, self.embedding_dim)\n",
        "        self.v = nn.Linear(self.embedding_dim, self.embedding_dim)\n",
        "        self.linear = nn.Linear(self.embedding_dim, self.embedding_dim)\n",
        "        self.norm = nn.LayerNorm(self.embedding_dim)\n",
        "\n",
        "    def forward(self, q_x, k_x, v_x, mask=None):\n",
        "        q_vals = self.q(q_x)\n",
        "        k_vals = self.k(k_x)\n",
        "        v_vals = self.v(v_x)\n",
        "        softmax_input = torch.matmul(q_vals, k_vals.transpose(1, 2)) / math.sqrt(self.embedding_dim)\n",
        "        if mask is not None:\n",
        "            softmax_input += mask\n",
        "\n",
        "        softmax_output = torch.softmax(softmax_input, dim=-1)\n",
        "        sdp_attention = torch.matmul(softmax_output, v_vals)\n",
        "        mha_output = self.linear(sdp_attention)\n",
        "        attention_output = v_x + mha_output\n",
        "        attention_output = self.norm(attention_output)\n",
        "\n",
        "        return attention_output"
      ],
      "metadata": {
        "id": "z658zZfljjia"
      },
      "execution_count": null,
      "outputs": []
    },
    {
      "cell_type": "code",
      "source": [
        "class Encoder(nn.Module):\n",
        "    def __init__(self, vocab_size, embedding_size, max_length=128, num_heads=8, masking=False):\n",
        "\n",
        "        super(Encoder, self).__init__()\n",
        "        self.vocab_size = vocab_size # amount of characters in the vocabulary\n",
        "        self.embedding_size = embedding_size # size of the embeddings\n",
        "        self.masking = masking # decide whether a padding mask is applied before computing softmax\n",
        "        self.max_length = max_length\n",
        "\n",
        "        self.embedding = nn.Embedding(self.vocab_size, self.embedding_size)\n",
        "        self.pos_encoding = PositionalEncoding(self.embedding_size, max_length=self.max_length)\n",
        "        self.att_block = MultiHeadAttention(self.embedding_size, 8)\n",
        "        self.fc1 = nn.Linear(self.embedding_size, self.embedding_size)\n",
        "        self.relu = nn.ReLU()\n",
        "        self.fc2 = nn.Linear(self.embedding_size, self.embedding_size)\n",
        "        self.ff_net = nn.Sequential(\n",
        "            self.fc1,\n",
        "            self.relu,\n",
        "            self.fc2\n",
        "        ) # feedforward network on top of the attention layer\n",
        "        self.norm = nn.LayerNorm(self.embedding_size)\n",
        "\n",
        "    def forward(self, x):\n",
        "        mask = torch.where(x == 0, float('-inf'), torch.tensor(0.0)).unsqueeze(1)\n",
        "        if len(list(x.shape)) == 1:\n",
        "            x = x.unsqueeze(0)\n",
        "            mask = mask.squeeze(0)\n",
        "\n",
        "        x = self.embedding(x)\n",
        "        x += self.pos_encoding(x) # add the positional encoding to the embedded sequence\n",
        "        if self.masking is False:\n",
        "            mask = None\n",
        "        x = self.att_block(x, x, x, mask=mask)\n",
        "\n",
        "        x = self.ff_net(x) + x\n",
        "\n",
        "        encoder_output = self.norm(x)\n",
        "\n",
        "        return encoder_output, mask"
      ],
      "metadata": {
        "id": "XgJIZBjcu62f"
      },
      "execution_count": null,
      "outputs": []
    },
    {
      "cell_type": "code",
      "source": [
        "embed_dim = max_seq_length\n",
        "encoder = Encoder(dataset.vocab_len(), embed_dim, masking=True).to(device)\n",
        "print('eng', eng_batch[0, 0:5])\n",
        "\n",
        "enc_output, enc_mask = encoder(eng_batch.to(device))\n",
        "print(enc_output.shape)"
      ],
      "metadata": {
        "id": "vQEHXzF7xHzI"
      },
      "execution_count": null,
      "outputs": []
    },
    {
      "cell_type": "code",
      "source": [
        "class Decoder(nn.Module):\n",
        "    def __init__(self, vocab_size, embedding_size, embedding_layer, max_length=128, masking=False):\n",
        "\n",
        "        super(Decoder, self).__init__()\n",
        "        self.vocab_size = vocab_size\n",
        "        self.embedding_size = embedding_size\n",
        "        self.masking = masking\n",
        "        self.max_length = max_length\n",
        "\n",
        "        self.embedding = embedding_layer\n",
        "        self.pos_encoding = PositionalEncoding(self.embedding_size, max_length=self.max_length)\n",
        "        self.mmha = MultiHeadAttention(embedding_size, 8)\n",
        "        self.mha = MultiHeadAttention(embedding_size, 8)\n",
        "        self.fc1 = nn.Linear(self.embedding_size, self.embedding_size)\n",
        "        self.relu = nn.ReLU()\n",
        "        self.fc2 = nn.Linear(self.embedding_size, self.embedding_size)\n",
        "        self.ff_net = nn.Sequential(\n",
        "            self.fc1,\n",
        "            self.relu,\n",
        "            self.fc2\n",
        "        ) # feedforward network on top of the attention layer\n",
        "        self.norm = nn.LayerNorm(self.embedding_size)\n",
        "\n",
        "        self.linear = nn.Linear(self.embedding_size, self.vocab_size) # linear layer on top of the decoder\n",
        "        self.linear.weight = self.embedding.weight # weight sharing for efficiency\n",
        "        self.softmax = nn.Softmax(dim=2)\n",
        "\n",
        "    def forward(self, target, encoder_output, mha_mask=None):\n",
        "        # unsqueeze for using it across a batch, if we had multiple attention heads one more unsqueeze would be necessary\n",
        "        mmha_mask = torch.triu(torch.full((self.embedding_size, self.embedding_size), float('-inf')), diagonal=1).unsqueeze(0)  # mask for mmha\n",
        "        # mha_mask = torch.where(target == 0, float('-inf'), torch.tensor(0.0)).unsqueeze(1) # mask for mha\n",
        "\n",
        "        x = self.embedding(target)\n",
        "        x += self.pos_encoding(x)\n",
        "        if self.masking is False:\n",
        "            mha_mask = None\n",
        "            mmha_mask = None\n",
        "        mmha_output = self.mmha(x, x, x, mask=mmha_mask.to(device))\n",
        "\n",
        "        x = self.mha(mmha_output, encoder_output, encoder_output, mask=mha_mask)\n",
        "\n",
        "        x = self.ff_net(x) + x\n",
        "\n",
        "        decoder_output = self.norm(x)\n",
        "\n",
        "        logits = self.linear(decoder_output)\n",
        "        output = self.softmax(logits)\n",
        "\n",
        "        return logits, output"
      ],
      "metadata": {
        "id": "jcJIgrzpjZ5g"
      },
      "execution_count": null,
      "outputs": []
    },
    {
      "cell_type": "code",
      "source": [
        "embed_dim = max_seq_length\n",
        "decoder = Decoder(dataset.vocab_len(), embed_dim, encoder.embedding, masking=True).to(device)\n",
        "print('eng', eng_batch[0, 0:5])\n",
        "\n",
        "logits, dec_output = decoder(eng_batch.to(device), enc_output.to(device), enc_mask.to(device))\n",
        "print(dec_output[0, 0:5, 0:5])\n",
        "print(dec_output.shape)"
      ],
      "metadata": {
        "id": "HmSnNOeuPwff"
      },
      "execution_count": null,
      "outputs": []
    },
    {
      "cell_type": "code",
      "source": [
        "class Seq2Seq(nn.Module):\n",
        "    def __init__(self, encoder, decoder):\n",
        "        super(Seq2Seq, self).__init__()\n",
        "        self.encoder = encoder\n",
        "        self.decoder = decoder\n",
        "\n",
        "    def forward(self, src, tgt):\n",
        "        enc_output, enc_mask = self.encoder(src)\n",
        "        logits, dec_output = self.decoder(tgt, enc_output, enc_mask)\n",
        "\n",
        "        return logits, dec_output"
      ],
      "metadata": {
        "id": "F_fXAbMmvfPY"
      },
      "execution_count": null,
      "outputs": []
    },
    {
      "cell_type": "code",
      "source": [
        "model = Seq2Seq(encoder, decoder).to(device)\n",
        "model_logits, model_out = model(eng_batch.to(device), cz_batch.to(device))\n",
        "print(model_out.shape)"
      ],
      "metadata": {
        "id": "eOFYTaVV0D13"
      },
      "execution_count": null,
      "outputs": []
    },
    {
      "cell_type": "code",
      "source": [
        "def count_parameters(model):\n",
        "    return sum(p.numel() for p in model.parameters() if p.requires_grad)\n",
        "\n",
        "print(f\"Total trainable parameters: {count_parameters(model)}\")"
      ],
      "metadata": {
        "id": "ZYB3Nn3agoni"
      },
      "execution_count": null,
      "outputs": []
    },
    {
      "cell_type": "code",
      "source": [
        "print(dataset.vocab_len())\n",
        "encoder = Encoder(dataset.vocab_len(), embed_dim, masking=True).to(device)\n",
        "decoder = Decoder(dataset.vocab_len(), embed_dim, encoder.embedding, masking=True).to(device)\n",
        "model = Seq2Seq(encoder, decoder).to(device)\n",
        "\n",
        "training_params = {\n",
        "    'batch_size': 32,\n",
        "    'num_epochs': 100\n",
        "}\n",
        "\n",
        "dataset = english_czech_dataset(eng_lines, cz_lines, max_length=max_seq_length, char_set=unique_chars)\n",
        "\n",
        "train_size = int(0.8 * len(dataset))\n",
        "val_size = len(dataset) - train_size  # Remainder goes to validation\n",
        "\n",
        "train_dataset, val_dataset = random_split(dataset, [train_size, val_size])\n",
        "\n",
        "train_dataloader = DataLoader(train_dataset, batch_size=training_params['batch_size'], shuffle=True, drop_last=True)\n",
        "val_dataloader = DataLoader(val_dataset, batch_size=training_params['batch_size'], shuffle=False, drop_last=False)\n",
        "\n",
        "optimizer = optim.Adam(model.parameters(), lr=0.0005)\n",
        "criterion = nn.CrossEntropyLoss(ignore_index=PAD_INDEX)\n",
        "\n",
        "loss_history = []"
      ],
      "metadata": {
        "id": "nS3hqQ-QNfeC"
      },
      "execution_count": null,
      "outputs": []
    },
    {
      "cell_type": "code",
      "source": [
        "for epoch in range(training_params['num_epochs']):\n",
        "    for src, tgt in train_dataloader:\n",
        "\n",
        "        src = src.to(device)\n",
        "        tgt = tgt.to(device)\n",
        "\n",
        "        tgt_input = torch.cat([torch.full((training_params['batch_size'], 1), SOS_INDEX, dtype=torch.long, device=device), tgt[:, :-1]], dim=1)  # prepend <sos>\n",
        "        tgt_output = torch.cat([tgt[:, 1:], torch.full((batch_size, 1), EOS_INDEX, dtype=torch.long, device=device)], dim=1)  # append <eos>\n",
        "\n",
        "        optimizer.zero_grad()\n",
        "\n",
        "        logits, predictions = model(src, tgt_input)\n",
        "\n",
        "        logits = logits.view(-1, dataset.vocab_len())  # Flatten for CrossEntropy\n",
        "        tgt_output = tgt_output.view(-1)  # Flatten target\n",
        "\n",
        "        loss = criterion(logits, tgt_output)\n",
        "        loss.backward()\n",
        "\n",
        "        optimizer.step()\n",
        "\n",
        "        loss_history.append(loss.item())\n",
        "\n",
        "    if epoch % 10 == 0:\n",
        "        print(f\"Epoch [{epoch+1}/{training_params['num_epochs']}], Loss: {loss.item():.4f}\")\n",
        "    else:\n",
        "        print(f\"Epoch [{epoch+1}/{training_params['num_epochs']}]\")"
      ],
      "metadata": {
        "id": "zw3diaYkziwd"
      },
      "execution_count": null,
      "outputs": []
    },
    {
      "cell_type": "code",
      "source": [
        "print(loss)"
      ],
      "metadata": {
        "id": "v_blPyFQMadj"
      },
      "execution_count": null,
      "outputs": []
    },
    {
      "cell_type": "code",
      "source": [
        "def translate_sentence(seq2seq_model, dataset,sentence, max_len=128, sos_token=SOS_INDEX, eos_token=EOS_INDEX, device='cpu'):\n",
        "    seq2seq_model.to(device)\n",
        "    seq2seq_model.eval()\n",
        "    with torch.no_grad():\n",
        "        # Tokenize and encode the English sentence\n",
        "        src = [sos_token] + [dataset.char_to_idx[c] for c in sentence.lower()] + [eos_token]\n",
        "        src = torch.tensor(src, dtype=torch.long, device=device).unsqueeze(0).to(device)  # shape: (1, src_seq_len)\n",
        "\n",
        "        # Pass the input through the encoder to get context\n",
        "        enc_output, enc_mask = seq2seq_model.encoder(src)\n",
        "\n",
        "        # Initialize target sequence with <SOS>\n",
        "        tgt_input = torch.tensor([sos_token], dtype=torch.long, device=device).unsqueeze(0)  # (1, 1)\n",
        "        print(enc_output.shape, tgt_input.shape)\n",
        "\n",
        "        translated_sentence = []\n",
        "        for _ in range(max_len):\n",
        "            # Pass through the decoder with current target input and encoder output\n",
        "            logits, dec_output = seq2seq_model.decoder(tgt_input, enc_output, enc_mask)\n",
        "\n",
        "            # Get the next token (greedy decoding)\n",
        "            next_token = logits.argmax(-1)[:, -1].item()  # Get the last predicted token\n",
        "\n",
        "            # Append token to the translated sentence\n",
        "            translated_sentence.append(next_token)\n",
        "\n",
        "            # If <EOS> is generated, break\n",
        "            if next_token == eos_token:\n",
        "                break\n",
        "\n",
        "            # Update target input with the new token\n",
        "            tgt_input = torch.cat([tgt_input, torch.tensor([[next_token]], device=device)], dim=1)\n",
        "\n",
        "        # Convert tokens back to characters\n",
        "        translated_chars = [seq2seq_model.decoder.idx_to_char[idx] for idx in translated_sentence if idx not in {sos_token, eos_token}]\n",
        "\n",
        "        return ''.join(translated_chars)\n"
      ],
      "metadata": {
        "id": "sA9lKyEWu8QC"
      },
      "execution_count": null,
      "outputs": []
    },
    {
      "cell_type": "code",
      "source": [
        "test_sen = \"My name is.\"\n",
        "cz_test = translate_sentence(model, dataset, test_sen, device=device)\n",
        "print(f\"English: {test_sen}\")\n",
        "print(f\"Czech: \", cz_test)"
      ],
      "metadata": {
        "id": "hDtwJrINwsuc"
      },
      "execution_count": null,
      "outputs": []
    },
    {
      "cell_type": "code",
      "source": [
        "import re\n",
        "\n",
        "text = \"Here are some examples: AA, AZ, 123, 123, ABC.\"\n",
        "\n",
        "# Find words that contain both letters and numbers\n",
        "matches = re.findall(r\"\\b(?=\\w*\\d)(?=\\w*[A-Za-z])\\w+\\b\", text)\n",
        "print(re.sub(r\"\\b(?=\\w*\\d)(?=\\w*[A-Za-z])\\w+\\b\", \"\", text))\n",
        "\n",
        "print(\"Matches found:\", matches)\n"
      ],
      "metadata": {
        "id": "CMQpHbwT5Ptc"
      },
      "execution_count": null,
      "outputs": []
    },
    {
      "cell_type": "code",
      "source": [],
      "metadata": {
        "id": "amW3gkHD1BiA"
      },
      "execution_count": null,
      "outputs": []
    }
  ]
}